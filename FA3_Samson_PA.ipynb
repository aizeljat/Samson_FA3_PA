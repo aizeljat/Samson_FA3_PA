{
  "nbformat": 4,
  "nbformat_minor": 0,
  "metadata": {
    "colab": {
      "provenance": [],
      "toc_visible": true
    },
    "kernelspec": {
      "name": "python3",
      "display_name": "Python 3"
    },
    "language_info": {
      "name": "python"
    }
  },
  "cells": [
    {
      "cell_type": "markdown",
      "source": [
        "# FA 3\n",
        "**Predictive Analytics**\n",
        "\n",
        "Justine Aizel Samson"
      ],
      "metadata": {
        "id": "_djm44GxKLfx"
      }
    },
    {
      "cell_type": "markdown",
      "source": [
        "This assignment explores the full pipeline of Natural Language Processing (NLP) for text classification, from data cleaning to embedding, model training, and evaluation. The goal is to understand how various text representation techniques and preprocessing strategies impact model performance and semantic understanding.\n",
        "\n",
        "We begin with comprehensive **text preprocessing**, including tokenization, stopword removal, and lemmatization/stemming. Next, we compute **TF-IDF scores** to identify important words across classes.\n",
        "\n",
        "In the second phase, we use **pre-trained Word2Vec or GloVe embeddings** to represent documents as dense vectors. These representations will be visualized and compared based on semantic similarity (e.g., \"good\" vs. \"excellent\").\n",
        "\n",
        "We then proceed to **model building** using logistic regression or a simple neural network to classify documents based on their vector representations. Key evaluation metrics—**accuracy, precision, recall, F1-score, and confusion matrix**—will be used to assess performance.\n",
        "\n",
        "Finally, we provide a comparative **analysis and discussion** of different preprocessing and embedding methods, evaluating how each affects the classification task. This includes a written summary of insights, challenges encountered, and potential improvements.\n",
        "\n",
        "Optionally, we may enhance this analysis by **visualizing word embeddings using t-SNE or PCA**, or experimenting with N-gram models or Naive Bayes for further comparison.\n"
      ],
      "metadata": {
        "id": "M2jOnmWVEIB2"
      }
    },
    {
      "cell_type": "markdown",
      "source": [
        "### Installing Libraries\n",
        "\n"
      ],
      "metadata": {
        "id": "fzOLOOt1Zz9Y"
      }
    },
    {
      "cell_type": "code",
      "source": [
        "!pip uninstall -y tensorflow numpy\n",
        "!pip install numpy==1.23.5 tensorflow==2.12.0\n"
      ],
      "metadata": {
        "id": "y57u0E6vjIa2",
        "colab": {
          "base_uri": "https://localhost:8080/",
          "height": 1000
        },
        "collapsed": true,
        "outputId": "f20a09a7-8ff2-4f21-9c9a-a63ab36e1243"
      },
      "execution_count": 1,
      "outputs": [
        {
          "output_type": "stream",
          "name": "stdout",
          "text": [
            "Found existing installation: tensorflow 2.12.0\n",
            "Uninstalling tensorflow-2.12.0:\n",
            "  Successfully uninstalled tensorflow-2.12.0\n",
            "Found existing installation: numpy 1.23.5\n",
            "Uninstalling numpy-1.23.5:\n",
            "  Successfully uninstalled numpy-1.23.5\n",
            "Collecting numpy==1.23.5\n",
            "  Using cached numpy-1.23.5-cp311-cp311-manylinux_2_17_x86_64.manylinux2014_x86_64.whl.metadata (2.3 kB)\n",
            "Collecting tensorflow==2.12.0\n",
            "  Using cached tensorflow-2.12.0-cp311-cp311-manylinux_2_17_x86_64.manylinux2014_x86_64.whl.metadata (3.4 kB)\n",
            "Requirement already satisfied: absl-py>=1.0.0 in /usr/local/lib/python3.11/dist-packages (from tensorflow==2.12.0) (1.4.0)\n",
            "Requirement already satisfied: astunparse>=1.6.0 in /usr/local/lib/python3.11/dist-packages (from tensorflow==2.12.0) (1.6.3)\n",
            "Requirement already satisfied: flatbuffers>=2.0 in /usr/local/lib/python3.11/dist-packages (from tensorflow==2.12.0) (25.2.10)\n",
            "Requirement already satisfied: gast<=0.4.0,>=0.2.1 in /usr/local/lib/python3.11/dist-packages (from tensorflow==2.12.0) (0.4.0)\n",
            "Requirement already satisfied: google-pasta>=0.1.1 in /usr/local/lib/python3.11/dist-packages (from tensorflow==2.12.0) (0.2.0)\n",
            "Requirement already satisfied: grpcio<2.0,>=1.24.3 in /usr/local/lib/python3.11/dist-packages (from tensorflow==2.12.0) (1.71.0)\n",
            "Requirement already satisfied: h5py>=2.9.0 in /usr/local/lib/python3.11/dist-packages (from tensorflow==2.12.0) (3.13.0)\n",
            "Requirement already satisfied: jax>=0.3.15 in /usr/local/lib/python3.11/dist-packages (from tensorflow==2.12.0) (0.4.30)\n",
            "Requirement already satisfied: keras<2.13,>=2.12.0 in /usr/local/lib/python3.11/dist-packages (from tensorflow==2.12.0) (2.12.0)\n",
            "Requirement already satisfied: libclang>=13.0.0 in /usr/local/lib/python3.11/dist-packages (from tensorflow==2.12.0) (18.1.1)\n",
            "Requirement already satisfied: opt-einsum>=2.3.2 in /usr/local/lib/python3.11/dist-packages (from tensorflow==2.12.0) (3.4.0)\n",
            "Requirement already satisfied: packaging in /usr/local/lib/python3.11/dist-packages (from tensorflow==2.12.0) (24.2)\n",
            "Requirement already satisfied: protobuf!=4.21.0,!=4.21.1,!=4.21.2,!=4.21.3,!=4.21.4,!=4.21.5,<5.0.0dev,>=3.20.3 in /usr/local/lib/python3.11/dist-packages (from tensorflow==2.12.0) (4.25.7)\n",
            "Requirement already satisfied: setuptools in /usr/local/lib/python3.11/dist-packages (from tensorflow==2.12.0) (75.2.0)\n",
            "Requirement already satisfied: six>=1.12.0 in /usr/local/lib/python3.11/dist-packages (from tensorflow==2.12.0) (1.17.0)\n",
            "Requirement already satisfied: tensorboard<2.13,>=2.12 in /usr/local/lib/python3.11/dist-packages (from tensorflow==2.12.0) (2.12.3)\n",
            "Requirement already satisfied: tensorflow-estimator<2.13,>=2.12.0 in /usr/local/lib/python3.11/dist-packages (from tensorflow==2.12.0) (2.12.0)\n",
            "Requirement already satisfied: termcolor>=1.1.0 in /usr/local/lib/python3.11/dist-packages (from tensorflow==2.12.0) (3.1.0)\n",
            "Requirement already satisfied: typing-extensions>=3.6.6 in /usr/local/lib/python3.11/dist-packages (from tensorflow==2.12.0) (4.13.2)\n",
            "Requirement already satisfied: wrapt<1.15,>=1.11.0 in /usr/local/lib/python3.11/dist-packages (from tensorflow==2.12.0) (1.14.1)\n",
            "Requirement already satisfied: tensorflow-io-gcs-filesystem>=0.23.1 in /usr/local/lib/python3.11/dist-packages (from tensorflow==2.12.0) (0.37.1)\n",
            "Requirement already satisfied: wheel<1.0,>=0.23.0 in /usr/local/lib/python3.11/dist-packages (from astunparse>=1.6.0->tensorflow==2.12.0) (0.45.1)\n",
            "Requirement already satisfied: jaxlib<=0.4.30,>=0.4.27 in /usr/local/lib/python3.11/dist-packages (from jax>=0.3.15->tensorflow==2.12.0) (0.4.30)\n",
            "Requirement already satisfied: ml-dtypes>=0.2.0 in /usr/local/lib/python3.11/dist-packages (from jax>=0.3.15->tensorflow==2.12.0) (0.4.1)\n",
            "Requirement already satisfied: scipy>=1.9 in /usr/local/lib/python3.11/dist-packages (from jax>=0.3.15->tensorflow==2.12.0) (1.10.1)\n",
            "Requirement already satisfied: google-auth<3,>=1.6.3 in /usr/local/lib/python3.11/dist-packages (from tensorboard<2.13,>=2.12->tensorflow==2.12.0) (2.38.0)\n",
            "Requirement already satisfied: google-auth-oauthlib<1.1,>=0.5 in /usr/local/lib/python3.11/dist-packages (from tensorboard<2.13,>=2.12->tensorflow==2.12.0) (1.0.0)\n",
            "Requirement already satisfied: markdown>=2.6.8 in /usr/local/lib/python3.11/dist-packages (from tensorboard<2.13,>=2.12->tensorflow==2.12.0) (3.8)\n",
            "Requirement already satisfied: requests<3,>=2.21.0 in /usr/local/lib/python3.11/dist-packages (from tensorboard<2.13,>=2.12->tensorflow==2.12.0) (2.32.3)\n",
            "Requirement already satisfied: tensorboard-data-server<0.8.0,>=0.7.0 in /usr/local/lib/python3.11/dist-packages (from tensorboard<2.13,>=2.12->tensorflow==2.12.0) (0.7.2)\n",
            "Requirement already satisfied: werkzeug>=1.0.1 in /usr/local/lib/python3.11/dist-packages (from tensorboard<2.13,>=2.12->tensorflow==2.12.0) (3.1.3)\n",
            "Requirement already satisfied: cachetools<6.0,>=2.0.0 in /usr/local/lib/python3.11/dist-packages (from google-auth<3,>=1.6.3->tensorboard<2.13,>=2.12->tensorflow==2.12.0) (5.5.2)\n",
            "Requirement already satisfied: pyasn1-modules>=0.2.1 in /usr/local/lib/python3.11/dist-packages (from google-auth<3,>=1.6.3->tensorboard<2.13,>=2.12->tensorflow==2.12.0) (0.4.2)\n",
            "Requirement already satisfied: rsa<5,>=3.1.4 in /usr/local/lib/python3.11/dist-packages (from google-auth<3,>=1.6.3->tensorboard<2.13,>=2.12->tensorflow==2.12.0) (4.9.1)\n",
            "Requirement already satisfied: requests-oauthlib>=0.7.0 in /usr/local/lib/python3.11/dist-packages (from google-auth-oauthlib<1.1,>=0.5->tensorboard<2.13,>=2.12->tensorflow==2.12.0) (2.0.0)\n",
            "Requirement already satisfied: charset-normalizer<4,>=2 in /usr/local/lib/python3.11/dist-packages (from requests<3,>=2.21.0->tensorboard<2.13,>=2.12->tensorflow==2.12.0) (3.4.2)\n",
            "Requirement already satisfied: idna<4,>=2.5 in /usr/local/lib/python3.11/dist-packages (from requests<3,>=2.21.0->tensorboard<2.13,>=2.12->tensorflow==2.12.0) (3.10)\n",
            "Requirement already satisfied: urllib3<3,>=1.21.1 in /usr/local/lib/python3.11/dist-packages (from requests<3,>=2.21.0->tensorboard<2.13,>=2.12->tensorflow==2.12.0) (2.4.0)\n",
            "Requirement already satisfied: certifi>=2017.4.17 in /usr/local/lib/python3.11/dist-packages (from requests<3,>=2.21.0->tensorboard<2.13,>=2.12->tensorflow==2.12.0) (2025.4.26)\n",
            "Requirement already satisfied: MarkupSafe>=2.1.1 in /usr/local/lib/python3.11/dist-packages (from werkzeug>=1.0.1->tensorboard<2.13,>=2.12->tensorflow==2.12.0) (3.0.2)\n",
            "Requirement already satisfied: pyasn1<0.7.0,>=0.6.1 in /usr/local/lib/python3.11/dist-packages (from pyasn1-modules>=0.2.1->google-auth<3,>=1.6.3->tensorboard<2.13,>=2.12->tensorflow==2.12.0) (0.6.1)\n",
            "Requirement already satisfied: oauthlib>=3.0.0 in /usr/local/lib/python3.11/dist-packages (from requests-oauthlib>=0.7.0->google-auth-oauthlib<1.1,>=0.5->tensorboard<2.13,>=2.12->tensorflow==2.12.0) (3.2.2)\n",
            "Using cached numpy-1.23.5-cp311-cp311-manylinux_2_17_x86_64.manylinux2014_x86_64.whl (17.1 MB)\n",
            "Using cached tensorflow-2.12.0-cp311-cp311-manylinux_2_17_x86_64.manylinux2014_x86_64.whl (586.0 MB)\n",
            "Installing collected packages: numpy, tensorflow\n",
            "\u001b[31mERROR: pip's dependency resolver does not currently take into account all the packages that are installed. This behaviour is the source of the following dependency conflicts.\n",
            "cvxpy 1.6.5 requires scipy>=1.11.0, but you have scipy 1.10.1 which is incompatible.\n",
            "xarray 2025.3.1 requires numpy>=1.24, but you have numpy 1.23.5 which is incompatible.\n",
            "orbax-checkpoint 0.11.13 requires jax>=0.5.0, but you have jax 0.4.30 which is incompatible.\n",
            "bigframes 2.4.0 requires numpy>=1.24.0, but you have numpy 1.23.5 which is incompatible.\n",
            "tensorflow-decision-forests 1.11.0 requires tensorflow==2.18.0, but you have tensorflow 2.12.0 which is incompatible.\n",
            "tf-keras 2.18.0 requires tensorflow<2.19,>=2.18, but you have tensorflow 2.12.0 which is incompatible.\n",
            "blosc2 3.3.2 requires numpy>=1.26, but you have numpy 1.23.5 which is incompatible.\n",
            "chex 0.1.89 requires numpy>=1.24.1, but you have numpy 1.23.5 which is incompatible.\n",
            "treescope 0.1.9 requires numpy>=1.25.2, but you have numpy 1.23.5 which is incompatible.\n",
            "scikit-image 0.25.2 requires numpy>=1.24, but you have numpy 1.23.5 which is incompatible.\n",
            "scikit-image 0.25.2 requires scipy>=1.11.4, but you have scipy 1.10.1 which is incompatible.\n",
            "ydf 0.11.0 requires protobuf<6.0.0,>=5.29.1, but you have protobuf 4.25.7 which is incompatible.\n",
            "pymc 5.22.0 requires numpy>=1.25.0, but you have numpy 1.23.5 which is incompatible.\n",
            "tensorflow-text 2.18.1 requires tensorflow<2.19,>=2.18.0, but you have tensorflow 2.12.0 which is incompatible.\n",
            "imbalanced-learn 0.13.0 requires numpy<3,>=1.24.3, but you have numpy 1.23.5 which is incompatible.\n",
            "thinc 8.3.6 requires numpy<3.0.0,>=2.0.0, but you have numpy 1.23.5 which is incompatible.\n",
            "albumentations 2.0.6 requires numpy>=1.24.4, but you have numpy 1.23.5 which is incompatible.\n",
            "tsfresh 0.21.0 requires scipy>=1.14.0; python_version >= \"3.10\", but you have scipy 1.10.1 which is incompatible.\n",
            "flax 0.10.6 requires jax>=0.5.1, but you have jax 0.4.30 which is incompatible.\n",
            "albucore 0.0.24 requires numpy>=1.24.4, but you have numpy 1.23.5 which is incompatible.\n",
            "db-dtypes 1.4.3 requires numpy>=1.24.0, but you have numpy 1.23.5 which is incompatible.\u001b[0m\u001b[31m\n",
            "\u001b[0mSuccessfully installed numpy-1.23.5 tensorflow-2.12.0\n"
          ]
        },
        {
          "output_type": "display_data",
          "data": {
            "application/vnd.colab-display-data+json": {
              "pip_warning": {
                "packages": [
                  "numpy"
                ]
              },
              "id": "9a911b847a664e16b3efcbeeac43655a"
            }
          },
          "metadata": {}
        }
      ]
    },
    {
      "cell_type": "markdown",
      "source": [
        "### Importing Dataset\n",
        "\n"
      ],
      "metadata": {
        "id": "yCXmAg8EpG_4"
      }
    },
    {
      "cell_type": "code",
      "source": [
        "import numpy\n",
        "import tensorflow as tf\n",
        "from tensorflow.keras.models import Sequential\n",
        "print(numpy.__version__)\n",
        "print(tf.__version__)\n"
      ],
      "metadata": {
        "id": "VZ23D4tZn--3",
        "colab": {
          "base_uri": "https://localhost:8080/"
        },
        "outputId": "21a40e17-cd26-467b-a573-b14c68eaa95b"
      },
      "execution_count": 2,
      "outputs": [
        {
          "output_type": "stream",
          "name": "stdout",
          "text": [
            "1.23.5\n",
            "2.12.0\n"
          ]
        }
      ]
    },
    {
      "cell_type": "code",
      "source": [
        "import nltk\n",
        "import re\n",
        "from nltk.corpus import stopwords\n",
        "from nltk.stem import WordNetLemmatizer\n",
        "from nltk.tokenize import word_tokenize\n",
        "\n",
        "nltk.download('stopwords')\n",
        "nltk.download('punkt')\n",
        "nltk.download('wordnet')\n",
        "\n",
        "lemmatizer = WordNetLemmatizer()\n",
        "stop_words = set(stopwords.words('english'))\n",
        "\n",
        "def preprocess_text(text):\n",
        "    text = text.lower()\n",
        "    text = re.sub(r'[^a-z\\s]', '', text)\n",
        "    tokens = word_tokenize(text)\n",
        "    cleaned = [lemmatizer.lemmatize(token) for token in tokens if token not in stop_words]\n",
        "    return cleaned\n"
      ],
      "metadata": {
        "id": "OSYiy3VbllRe",
        "colab": {
          "base_uri": "https://localhost:8080/"
        },
        "outputId": "85b943e2-ef9b-426b-9d19-e5a0d1e33c87"
      },
      "execution_count": 3,
      "outputs": [
        {
          "output_type": "stream",
          "name": "stderr",
          "text": [
            "[nltk_data] Downloading package stopwords to /root/nltk_data...\n",
            "[nltk_data]   Package stopwords is already up-to-date!\n",
            "[nltk_data] Downloading package punkt to /root/nltk_data...\n",
            "[nltk_data]   Package punkt is already up-to-date!\n",
            "[nltk_data] Downloading package wordnet to /root/nltk_data...\n",
            "[nltk_data]   Package wordnet is already up-to-date!\n"
          ]
        }
      ]
    },
    {
      "cell_type": "code",
      "source": [
        "from google.colab import drive\n",
        "drive.mount('/content/drive')\n",
        "\n",
        "import pandas as pd\n",
        "\n",
        "# If you uploaded to \"My Drive\"\n",
        "df = pd.read_csv('/content/drive/My Drive/Colab Notebooks/Tweets.csv')\n",
        "\n",
        "# Preview\n",
        "print(df.head())\n"
      ],
      "metadata": {
        "id": "GUC1pP_pYkxC",
        "colab": {
          "base_uri": "https://localhost:8080/"
        },
        "outputId": "734fb404-92dd-48d1-fed9-19562606f004"
      },
      "execution_count": 4,
      "outputs": [
        {
          "output_type": "stream",
          "name": "stdout",
          "text": [
            "Drive already mounted at /content/drive; to attempt to forcibly remount, call drive.mount(\"/content/drive\", force_remount=True).\n",
            "             tweet_id airline_sentiment  airline_sentiment_confidence  \\\n",
            "0  570306133677760513           neutral                        1.0000   \n",
            "1  570301130888122368          positive                        0.3486   \n",
            "2  570301083672813571           neutral                        0.6837   \n",
            "3  570301031407624196          negative                        1.0000   \n",
            "4  570300817074462722          negative                        1.0000   \n",
            "\n",
            "  negativereason  negativereason_confidence         airline  \\\n",
            "0            NaN                        NaN  Virgin America   \n",
            "1            NaN                     0.0000  Virgin America   \n",
            "2            NaN                        NaN  Virgin America   \n",
            "3     Bad Flight                     0.7033  Virgin America   \n",
            "4     Can't Tell                     1.0000  Virgin America   \n",
            "\n",
            "  airline_sentiment_gold        name negativereason_gold  retweet_count  \\\n",
            "0                    NaN     cairdin                 NaN              0   \n",
            "1                    NaN    jnardino                 NaN              0   \n",
            "2                    NaN  yvonnalynn                 NaN              0   \n",
            "3                    NaN    jnardino                 NaN              0   \n",
            "4                    NaN    jnardino                 NaN              0   \n",
            "\n",
            "                                                text tweet_coord  \\\n",
            "0                @VirginAmerica What @dhepburn said.         NaN   \n",
            "1  @VirginAmerica plus you've added commercials t...         NaN   \n",
            "2  @VirginAmerica I didn't today... Must mean I n...         NaN   \n",
            "3  @VirginAmerica it's really aggressive to blast...         NaN   \n",
            "4  @VirginAmerica and it's a really big bad thing...         NaN   \n",
            "\n",
            "               tweet_created tweet_location               user_timezone  \n",
            "0  2015-02-24 11:35:52 -0800            NaN  Eastern Time (US & Canada)  \n",
            "1  2015-02-24 11:15:59 -0800            NaN  Pacific Time (US & Canada)  \n",
            "2  2015-02-24 11:15:48 -0800      Lets Play  Central Time (US & Canada)  \n",
            "3  2015-02-24 11:15:36 -0800            NaN  Pacific Time (US & Canada)  \n",
            "4  2015-02-24 11:14:45 -0800            NaN  Pacific Time (US & Canada)  \n"
          ]
        }
      ]
    },
    {
      "cell_type": "markdown",
      "source": [
        "| Column Name                    | Description                                                                                   |\n",
        "| ------------------------------ | --------------------------------------------------------------------------------------------- |\n",
        "| `tweet_id`                     | Unique identifier for the tweet.                                                              |\n",
        "| `airline_sentiment`            | Sentiment label of the tweet: **positive**, **neutral**, or **negative**.                     |\n",
        "| `airline_sentiment_confidence` | Confidence score (0 to 1) for the sentiment classification.                                   |\n",
        "| `negativereason`               | Reason for negative sentiment, if applicable (e.g., *Bad Flight*, *Can't Tell*).              |\n",
        "| `negativereason_confidence`    | Confidence score for the negative reason classification.                                      |\n",
        "| `airline`                      | The airline mentioned (e.g., *Virgin America*).                                               |\n",
        "| `airline_sentiment_gold`       | Gold label for sentiment (used in some datasets for benchmarking). Likely missing (NaN) here. |\n",
        "| `name`                         | Twitter handle or username of the person who posted the tweet.                                |\n",
        "| `negativereason_gold`          | Gold label for negative reason classification. Also likely missing.                           |\n",
        "| `retweet_count`                | Number of times the tweet was retweeted.                                                      |\n",
        "| `text`                         | The actual content of the tweet.                                                              |\n",
        "| `tweet_coord`                  | GPS coordinates, if available (NaN here).                                                     |\n",
        "| `tweet_created`                | Timestamp when the tweet was posted.                                                          |\n",
        "| `tweet_location`               | User-defined location (NaN for most).                                                         |\n",
        "| `user_timezone`                | Timezone of the user when posting the tweet.                                                  |\n",
        "\n",
        "\n",
        "---\n",
        "This dataset provides Twitter users' sentiments toward various airlines, classified as positive, neutral, or negative, along with confidence scores. Most tweets in the sample are related to Virgin America, and negative sentiments often include specific reasons such as \"Bad Flight.\" The presence of user-generated content in informal language, along with missing data in fields like coordinates and gold labels, highlights the challenges of real-world text preprocessing. This dataset is ideal for applying NLP techniques such as TF-IDF, Word2Vec, and classification models to analyze public sentiment toward airlines.\n",
        "\n"
      ],
      "metadata": {
        "id": "B49SL28PEZck"
      }
    },
    {
      "cell_type": "markdown",
      "source": [
        "### Cleaning Dataset"
      ],
      "metadata": {
        "id": "QAc-aR_gadl-"
      }
    },
    {
      "cell_type": "code",
      "source": [
        "import pandas as pd\n",
        "import html\n",
        "\n",
        "# 1. Drop duplicate rows\n",
        "df = df.drop_duplicates()\n",
        "\n",
        "# 2. Drop rows with missing 'text'\n",
        "df = df.dropna(subset=['text'])\n",
        "\n",
        "# 3. Drop unnecessary columns (if present)\n",
        "columns_to_drop = [\n",
        "    'tweet_id', 'airline_sentiment_gold', 'negativereason_gold',\n",
        "    'name', 'tweet_coord', 'tweet_location', 'user_timezone'\n",
        "]\n",
        "df = df.drop(columns=[col for col in columns_to_drop if col in df.columns])\n",
        "\n",
        "# 4. Fix encoding in text (e.g., '&amp;' → '&', handles all HTML entities)\n",
        "df['text'] = df['text'].apply(html.unescape)\n",
        "\n",
        "# 5. Reset index\n",
        "df = df.reset_index(drop=True)\n",
        "\n",
        "# 6. Preview cleaned data\n",
        "print(\"\\nAfter cleaning:\")\n",
        "print(df.info())\n",
        "print(df.head())\n",
        "\n",
        "# 7. Convert 'tweet_created' to datetime\n",
        "df['tweet_created'] = pd.to_datetime(df['tweet_created'])\n",
        "\n",
        "# 8. Count sentiment distribution\n",
        "df['airline_sentiment'].value_counts()\n"
      ],
      "metadata": {
        "id": "4CcYdpsXagCQ",
        "colab": {
          "base_uri": "https://localhost:8080/",
          "height": 1000
        },
        "outputId": "d9ab135e-3b94-40ca-f057-aa9f379ac07f"
      },
      "execution_count": 5,
      "outputs": [
        {
          "output_type": "stream",
          "name": "stdout",
          "text": [
            "\n",
            "After cleaning:\n",
            "<class 'pandas.core.frame.DataFrame'>\n",
            "RangeIndex: 14604 entries, 0 to 14603\n",
            "Data columns (total 8 columns):\n",
            " #   Column                        Non-Null Count  Dtype  \n",
            "---  ------                        --------------  -----  \n",
            " 0   airline_sentiment             14604 non-null  object \n",
            " 1   airline_sentiment_confidence  14604 non-null  float64\n",
            " 2   negativereason                9159 non-null   object \n",
            " 3   negativereason_confidence     10503 non-null  float64\n",
            " 4   airline                       14604 non-null  object \n",
            " 5   retweet_count                 14604 non-null  int64  \n",
            " 6   text                          14604 non-null  object \n",
            " 7   tweet_created                 14604 non-null  object \n",
            "dtypes: float64(2), int64(1), object(5)\n",
            "memory usage: 912.9+ KB\n",
            "None\n",
            "  airline_sentiment  airline_sentiment_confidence negativereason  \\\n",
            "0           neutral                        1.0000            NaN   \n",
            "1          positive                        0.3486            NaN   \n",
            "2           neutral                        0.6837            NaN   \n",
            "3          negative                        1.0000     Bad Flight   \n",
            "4          negative                        1.0000     Can't Tell   \n",
            "\n",
            "   negativereason_confidence         airline  retweet_count  \\\n",
            "0                        NaN  Virgin America              0   \n",
            "1                     0.0000  Virgin America              0   \n",
            "2                        NaN  Virgin America              0   \n",
            "3                     0.7033  Virgin America              0   \n",
            "4                     1.0000  Virgin America              0   \n",
            "\n",
            "                                                text  \\\n",
            "0                @VirginAmerica What @dhepburn said.   \n",
            "1  @VirginAmerica plus you've added commercials t...   \n",
            "2  @VirginAmerica I didn't today... Must mean I n...   \n",
            "3  @VirginAmerica it's really aggressive to blast...   \n",
            "4  @VirginAmerica and it's a really big bad thing...   \n",
            "\n",
            "               tweet_created  \n",
            "0  2015-02-24 11:35:52 -0800  \n",
            "1  2015-02-24 11:15:59 -0800  \n",
            "2  2015-02-24 11:15:48 -0800  \n",
            "3  2015-02-24 11:15:36 -0800  \n",
            "4  2015-02-24 11:14:45 -0800  \n"
          ]
        },
        {
          "output_type": "execute_result",
          "data": {
            "text/plain": [
              "airline_sentiment\n",
              "negative    9159\n",
              "neutral     3091\n",
              "positive    2354\n",
              "Name: count, dtype: int64"
            ],
            "text/html": [
              "<div>\n",
              "<style scoped>\n",
              "    .dataframe tbody tr th:only-of-type {\n",
              "        vertical-align: middle;\n",
              "    }\n",
              "\n",
              "    .dataframe tbody tr th {\n",
              "        vertical-align: top;\n",
              "    }\n",
              "\n",
              "    .dataframe thead th {\n",
              "        text-align: right;\n",
              "    }\n",
              "</style>\n",
              "<table border=\"1\" class=\"dataframe\">\n",
              "  <thead>\n",
              "    <tr style=\"text-align: right;\">\n",
              "      <th></th>\n",
              "      <th>count</th>\n",
              "    </tr>\n",
              "    <tr>\n",
              "      <th>airline_sentiment</th>\n",
              "      <th></th>\n",
              "    </tr>\n",
              "  </thead>\n",
              "  <tbody>\n",
              "    <tr>\n",
              "      <th>negative</th>\n",
              "      <td>9159</td>\n",
              "    </tr>\n",
              "    <tr>\n",
              "      <th>neutral</th>\n",
              "      <td>3091</td>\n",
              "    </tr>\n",
              "    <tr>\n",
              "      <th>positive</th>\n",
              "      <td>2354</td>\n",
              "    </tr>\n",
              "  </tbody>\n",
              "</table>\n",
              "</div><br><label><b>dtype:</b> int64</label>"
            ]
          },
          "metadata": {},
          "execution_count": 5
        }
      ]
    },
    {
      "cell_type": "code",
      "source": [
        "df['tweet_created'] = pd.to_datetime(df['tweet_created'], utc=True)\n"
      ],
      "metadata": {
        "id": "YkKyYEJ7b3HH"
      },
      "execution_count": 6,
      "outputs": []
    },
    {
      "cell_type": "markdown",
      "source": [
        "Data overview after cleaning:\n",
        "\n",
        "* Total rows: 14,601\n",
        "* Columns remain the same with slight reduction in rows (from 14,604 to 14,601)\n",
        "\n",
        "* negativereason and negativereason_confidence have missing values as expected\n",
        "\n",
        "\n",
        "---\n",
        "\n",
        "\n",
        "After cleaning, the dataset consists of 14,604 tweets with complete sentiment labels and text content, making it suitable for sentiment analysis. The sentiment distribution is imbalanced, with a majority of tweets expressing negative sentiments (9,159), followed by neutral (3,091) and positive (2,354) sentiments. The presence of specific negative reasons and confidence scores allows for deeper analysis of customer dissatisfaction. While some fields like “negativereason” and its confidence contain missing values, the dataset retains rich information for applying NLP and machine learning techniques to understand airline customer feedback.\n"
      ],
      "metadata": {
        "id": "5m67MRq1b_vj"
      }
    },
    {
      "cell_type": "markdown",
      "source": [
        "### Text Preprocessing"
      ],
      "metadata": {
        "id": "-v6ZO9PDZtM7"
      }
    },
    {
      "cell_type": "code",
      "source": [
        "# Install NLTK if not already installed (uncomment below if needed)\n",
        "!pip install nltk\n",
        "\n",
        "import pandas as pd\n",
        "import re\n",
        "import nltk\n",
        "import numpy as np\n",
        "from nltk.corpus import stopwords\n",
        "from nltk.stem import WordNetLemmatizer\n",
        "from nltk.tokenize import TreebankWordTokenizer\n",
        "\n",
        "# Download required NLTK resources (only once)\n",
        "nltk.download('stopwords')\n",
        "nltk.download('punkt')\n",
        "nltk.download('wordnet')\n",
        "nltk.download('omw-1.4')  # Optional but improves lemmatization\n",
        "\n",
        "# Set up tokenizer, stopwords, and lemmatizer\n",
        "tokenizer = TreebankWordTokenizer()\n",
        "stop_words = set(stopwords.words('english'))\n",
        "lemmatizer = WordNetLemmatizer()\n",
        "\n",
        "def preprocess_text(text):\n",
        "    if pd.isnull(text):  # Handle NaN or None\n",
        "        return \"\"\n",
        "    # Normalize text\n",
        "    text = text.lower()\n",
        "    text = re.sub(r\"http\\S+|www\\S+|https\\S+\", '', text)  # Remove URLs\n",
        "    text = re.sub(r\"@\\w+\", '', text)  # Remove mentions\n",
        "    text = re.sub(r\"[^a-z\\s]\", '', text)  # Remove special characters and punctuation\n",
        "    text = re.sub(r\"\\d+\", '', text)  # Remove digits\n",
        "    # Tokenize, remove stopwords, lemmatize\n",
        "    tokens = tokenizer.tokenize(text)\n",
        "    tokens = [lemmatizer.lemmatize(word) for word in tokens if word not in stop_words]\n",
        "    return ' '.join(tokens)\n",
        "\n",
        "# Apply preprocessing\n",
        "df['clean_text'] = df['text'].apply(preprocess_text)\n",
        "\n",
        "# Check results\n",
        "print(df[['text', 'clean_text']].head())"
      ],
      "metadata": {
        "id": "yl8GIZ8zwm_s",
        "colab": {
          "base_uri": "https://localhost:8080/"
        },
        "outputId": "4aabc76a-f01a-49c7-bca1-dd9566371651"
      },
      "execution_count": 7,
      "outputs": [
        {
          "output_type": "stream",
          "name": "stdout",
          "text": [
            "Requirement already satisfied: nltk in /usr/local/lib/python3.11/dist-packages (3.9.1)\n",
            "Requirement already satisfied: click in /usr/local/lib/python3.11/dist-packages (from nltk) (8.2.0)\n",
            "Requirement already satisfied: joblib in /usr/local/lib/python3.11/dist-packages (from nltk) (1.5.0)\n",
            "Requirement already satisfied: regex>=2021.8.3 in /usr/local/lib/python3.11/dist-packages (from nltk) (2024.11.6)\n",
            "Requirement already satisfied: tqdm in /usr/local/lib/python3.11/dist-packages (from nltk) (4.67.1)\n"
          ]
        },
        {
          "output_type": "stream",
          "name": "stderr",
          "text": [
            "[nltk_data] Downloading package stopwords to /root/nltk_data...\n",
            "[nltk_data]   Package stopwords is already up-to-date!\n",
            "[nltk_data] Downloading package punkt to /root/nltk_data...\n",
            "[nltk_data]   Package punkt is already up-to-date!\n",
            "[nltk_data] Downloading package wordnet to /root/nltk_data...\n",
            "[nltk_data]   Package wordnet is already up-to-date!\n",
            "[nltk_data] Downloading package omw-1.4 to /root/nltk_data...\n",
            "[nltk_data]   Package omw-1.4 is already up-to-date!\n"
          ]
        },
        {
          "output_type": "stream",
          "name": "stdout",
          "text": [
            "                                                text  \\\n",
            "0                @VirginAmerica What @dhepburn said.   \n",
            "1  @VirginAmerica plus you've added commercials t...   \n",
            "2  @VirginAmerica I didn't today... Must mean I n...   \n",
            "3  @VirginAmerica it's really aggressive to blast...   \n",
            "4  @VirginAmerica and it's a really big bad thing...   \n",
            "\n",
            "                                          clean_text  \n",
            "0                                               said  \n",
            "1       plus youve added commercial experience tacky  \n",
            "2       didnt today must mean need take another trip  \n",
            "3  really aggressive blast obnoxious entertainmen...  \n",
            "4                               really big bad thing  \n"
          ]
        }
      ]
    },
    {
      "cell_type": "markdown",
      "source": [
        "This result shows the successful implementation of a comprehensive text preprocessing pipeline using NLTK. The original tweet texts in the `text` column were cleaned by converting all characters to lowercase, removing URLs, Twitter mentions, digits, and special characters. The text was then tokenized, stop words were removed, and lemmatization was applied to reduce words to their base form. The cleaned output is stored in a new column called `clean_text`. This process enhances the quality and uniformity of the textual data, making it more suitable for subsequent tasks like vectorization or sentiment classification. Reviewing the head of the dataset confirms that irrelevant elements have been effectively stripped away, leaving behind semantically meaningful content.\n"
      ],
      "metadata": {
        "id": "Fg24vnpnFNLr"
      }
    },
    {
      "cell_type": "markdown",
      "source": [
        " #### Compute TF-IDF scores and display top 10 weighted words for each class."
      ],
      "metadata": {
        "id": "hxrEPy2Ml5x8"
      }
    },
    {
      "cell_type": "code",
      "source": [
        "from sklearn.feature_extraction.text import TfidfVectorizer\n",
        "import numpy as np\n",
        "import pandas as pd\n",
        "\n",
        "# Create TF-IDF vectorizer\n",
        "tfidf = TfidfVectorizer(max_features=5000)  # limit features for speed\n",
        "\n",
        "# Fit and transform the cleaned tweets\n",
        "X_tfidf = tfidf.fit_transform(df['clean_text'])\n",
        "\n",
        "# Get feature (word) names\n",
        "feature_names = np.array(tfidf.get_feature_names_out())\n",
        "\n",
        "# Add sentiment labels\n",
        "df['airline_sentiment'] = df['airline_sentiment'].astype(str)  # ensure string type\n",
        "\n",
        "# Function to get top n words per class based on average TF-IDF scores\n",
        "def top_tfidf_words_per_class(tfidf_matrix, labels, class_name, n=10):\n",
        "    # Select rows with this class\n",
        "    class_indices = np.where(labels == class_name)[0]\n",
        "\n",
        "    # Average TF-IDF vector for this class\n",
        "    class_tfidf = tfidf_matrix[class_indices].mean(axis=0)\n",
        "\n",
        "    # Convert to array\n",
        "    class_tfidf_array = np.asarray(class_tfidf).flatten()\n",
        "\n",
        "     # Get indices of top n words\n",
        "    top_n_ids = class_tfidf_array.argsort()[::-1][:n]\n",
        "\n",
        "    return feature_names[top_n_ids], class_tfidf_array[top_n_ids]\n",
        "\n",
        "# Prepare labels array\n",
        "labels = df['airline_sentiment'].values\n",
        "\n",
        "# For each sentiment class, print top 10 weighted words\n",
        "for sentiment in df['airline_sentiment'].unique():\n",
        "    top_words, scores = top_tfidf_words_per_class(X_tfidf, labels, sentiment, n=10)\n",
        "    print(f\"\\nTop 10 TF-IDF words for sentiment '{sentiment}':\")\n",
        "    for word, score in zip(top_words, scores):\n",
        "        print(f\"{word}: {score:.4f}\")\n"
      ],
      "metadata": {
        "colab": {
          "base_uri": "https://localhost:8080/"
        },
        "id": "O13_oq7mQKvI",
        "outputId": "e895ba7c-a668-4508-a2d6-d23560d69303"
      },
      "execution_count": 9,
      "outputs": [
        {
          "output_type": "stream",
          "name": "stdout",
          "text": [
            "\n",
            "Top 10 TF-IDF words for sentiment 'neutral':\n",
            "flight: 0.0398\n",
            "fleek: 0.0191\n",
            "dm: 0.0186\n",
            "fleet: 0.0183\n",
            "please: 0.0175\n",
            "get: 0.0168\n",
            "thanks: 0.0155\n",
            "need: 0.0144\n",
            "help: 0.0133\n",
            "tomorrow: 0.0110\n",
            "\n",
            "Top 10 TF-IDF words for sentiment 'positive':\n",
            "thanks: 0.0881\n",
            "thank: 0.0817\n",
            "great: 0.0329\n",
            "flight: 0.0254\n",
            "love: 0.0190\n",
            "much: 0.0180\n",
            "awesome: 0.0172\n",
            "best: 0.0166\n",
            "guy: 0.0161\n",
            "good: 0.0151\n",
            "\n",
            "Top 10 TF-IDF words for sentiment 'negative':\n",
            "flight: 0.0477\n",
            "hour: 0.0255\n",
            "get: 0.0212\n",
            "cancelled: 0.0206\n",
            "customer: 0.0180\n",
            "service: 0.0176\n",
            "hold: 0.0171\n",
            "time: 0.0165\n",
            "bag: 0.0154\n",
            "help: 0.0149\n"
          ]
        }
      ]
    },
    {
      "cell_type": "markdown",
      "source": [
        "These TF-IDF results provide insightful distinctions in word importance across sentiment categories in the airline tweets. For **neutral** sentiments, terms like *\"flight\"*, *\"please\"*, and *\"help\"* suggest informative or service-related discussions without strong emotional tone. In **positive** tweets, high-weighted words like *\"thanks\"*, *\"thank\"*, *\"great\"*, and *\"awesome\"* clearly reflect appreciation and satisfaction, reinforcing their positive polarity. On the other hand, **negative** sentiments are marked by terms such as *\"cancelled\"*, *\"customer\"*, *\"hold\"*, and *\"bag\"*, highlighting common complaints related to service delays or issues. These TF-IDF distinctions effectively capture the semantic essence of each sentiment class, aiding in both feature selection and sentiment classification.\n"
      ],
      "metadata": {
        "id": "PTKCEUIAQa6V"
      }
    },
    {
      "cell_type": "markdown",
      "source": [
        "#### Comparison of Lemmatization vs. Stemming (Example Analysis)"
      ],
      "metadata": {
        "id": "vmjWkRPESW_w"
      }
    },
    {
      "cell_type": "code",
      "source": [
        "from nltk.stem import PorterStemmer\n",
        "\n",
        "stemmer = PorterStemmer()\n",
        "\n",
        "def preprocess_text_stemming(text):\n",
        "    if pd.isnull(text):\n",
        "        return \"\"\n",
        "    text = text.lower()\n",
        "    text = re.sub(r\"http\\S+|www\\S+|https\\S+\", '', text)\n",
        "    text = re.sub(r\"@\\w+\", '', text)\n",
        "    text = re.sub(r\"[^a-z\\s]\", '', text)\n",
        "    text = re.sub(r\"\\d+\", '', text)\n",
        "    tokens = tokenizer.tokenize(text)\n",
        "    tokens = [stemmer.stem(word) for word in tokens if word not in stop_words]\n",
        "    return ' '.join(tokens)\n",
        "\n",
        "# Apply both versions\n",
        "df['clean_text_lemmatized'] = df['text'].apply(preprocess_text)\n",
        "df['clean_text_stemmed'] = df['text'].apply(preprocess_text_stemming)\n",
        "\n",
        "# Show example comparison\n",
        "print(\"\\nComparison of Lemmatization vs Stemming (First 5 rows):\")\n",
        "for i in range(5):\n",
        "    print(f\"Original: {df['text'][i]}\")\n",
        "    print(f\"Lemmatized: {df['clean_text_lemmatized'][i]}\")\n",
        "    print(f\"Stemmed:    {df['clean_text_stemmed'][i]}\")\n",
        "    print(\"-\" * 60)\n"
      ],
      "metadata": {
        "colab": {
          "base_uri": "https://localhost:8080/"
        },
        "id": "4goTUmDVR_3b",
        "outputId": "a9749ba5-24a2-492b-b224-a7b684c8dd2d"
      },
      "execution_count": 10,
      "outputs": [
        {
          "output_type": "stream",
          "name": "stdout",
          "text": [
            "\n",
            "Comparison of Lemmatization vs Stemming (First 5 rows):\n",
            "Original: @VirginAmerica What @dhepburn said.\n",
            "Lemmatized: said\n",
            "Stemmed:    said\n",
            "------------------------------------------------------------\n",
            "Original: @VirginAmerica plus you've added commercials to the experience... tacky.\n",
            "Lemmatized: plus youve added commercial experience tacky\n",
            "Stemmed:    plu youv ad commerci experi tacki\n",
            "------------------------------------------------------------\n",
            "Original: @VirginAmerica I didn't today... Must mean I need to take another trip!\n",
            "Lemmatized: didnt today must mean need take another trip\n",
            "Stemmed:    didnt today must mean need take anoth trip\n",
            "------------------------------------------------------------\n",
            "Original: @VirginAmerica it's really aggressive to blast obnoxious \"entertainment\" in your guests' faces & they have little recourse\n",
            "Lemmatized: really aggressive blast obnoxious entertainment guest face little recourse\n",
            "Stemmed:    realli aggress blast obnoxi entertain guest face littl recours\n",
            "------------------------------------------------------------\n",
            "Original: @VirginAmerica and it's a really big bad thing about it\n",
            "Lemmatized: really big bad thing\n",
            "Stemmed:    realli big bad thing\n",
            "------------------------------------------------------------\n"
          ]
        }
      ]
    },
    {
      "cell_type": "markdown",
      "source": [
        "| Aspect        | Lemmatization                                         | Stemming                                              |\n",
        "| ------------- | ----------------------------------------------------- | ----------------------------------------------------- |\n",
        "| **Example 1** | `said` → `said`                                       | `said` → `said`                                       |\n",
        "| **Example 2** | `commercials` → `commercial`, `you've` → `youve`      | `commercials` → `commerci`, `you've` → `youv`         |\n",
        "| **Example 3** | `another` → `another`, `trip` → `trip`                | `another` → `anoth`, `trip` → `trip`                  |\n",
        "| **Example 4** | `entertainment` → `entertainment`, `faces` → `face`   | `entertainment` → `entertain`, `faces` → `face`       |\n",
        "| **Example 5** | `really` → `really`, `bad` → `bad`, `thing` → `thing` | `really` → `realli`, `bad` → `bad`, `thing` → `thing` |\n",
        "\n",
        "\n",
        "---\n",
        "\n",
        "The comparison between lemmatization and stemming shows that while both methods reduce words to a simpler form, lemmatization retains more meaningful and readable words by considering the context and grammar (e.g., \"commercials\" to \"commercial\"), whereas stemming often produces truncated or less interpretable forms (e.g., \"commercials\" to \"commerci\"). Lemmatization is generally more accurate and preserves the semantic integrity of the text, making it more suitable for tasks like sentiment analysis. On the other hand, stemming is faster and useful for reducing dimensionality, though it may sacrifice clarity.\n"
      ],
      "metadata": {
        "id": "_jxaNUYNSMUo"
      }
    },
    {
      "cell_type": "markdown",
      "source": [
        "### Embedding with Word2Vec or GloVe and\n",
        "### Model Building and Classification"
      ],
      "metadata": {
        "id": "AQK8I2BSQfI5"
      }
    },
    {
      "cell_type": "code",
      "source": [
        "from sklearn.metrics.pairwise import cosine_similarity\n",
        "\n",
        "# Define some word pairs\n",
        "word_pairs = [('good', 'excellent'), ('bad', 'terrible'), ('happy', 'joyful'), ('delay', 'late'), ('service', 'support')]\n",
        "\n",
        "print(\"\\nCosine Similarities between word pairs:\")\n",
        "for word1, word2 in word_pairs:\n",
        "    if word1 in word2vec.key_to_index and word2 in word2vec.key_to_index:\n",
        "        vec1 = word2vec[word1].reshape(1, -1)\n",
        "        vec2 = word2vec[word2].reshape(1, -1)\n",
        "        similarity = cosine_similarity(vec1, vec2)[0][0]\n",
        "        print(f\"{word1} - {word2}: {similarity:.4f}\")\n",
        "    else:\n",
        "        print(f\"One or both words not found in vocabulary: {word1}, {word2}\")\n"
      ],
      "metadata": {
        "colab": {
          "base_uri": "https://localhost:8080/"
        },
        "id": "Fhn_8IuSSp5h",
        "outputId": "12414ce2-18ac-4d0f-f930-d0e78d675908"
      },
      "execution_count": 11,
      "outputs": [
        {
          "output_type": "stream",
          "name": "stdout",
          "text": [
            "\n",
            "Cosine Similarities between word pairs:\n",
            "good - excellent: 0.6443\n",
            "bad - terrible: 0.6829\n",
            "happy - joyful: 0.4238\n",
            "delay - late: 0.2493\n",
            "service - support: 0.2629\n"
          ]
        }
      ]
    },
    {
      "cell_type": "markdown",
      "source": [
        "The cosine similarity scores reflect how semantically close the word pairs are in the Word2Vec embedding space. Pairs like **\"bad\" and \"terrible\" (0.6829)** and **\"good\" and \"excellent\" (0.6443)** show strong similarity, indicating that the model understands their shared sentiment and intensity. Meanwhile, **\"happy\" and \"joyful\" (0.4238)** are moderately similar, capturing emotional closeness but less strongly than the previous pairs. On the other hand, **\"delay\" and \"late\" (0.2493)** and **\"service\" and \"support\" (0.2629)** show lower similarity, possibly due to their broader or more context-dependent usage. This demonstrates how word embeddings effectively capture semantic relationships, though some meanings may require deeper contextual modeling.\n"
      ],
      "metadata": {
        "id": "UR-_Zbm-Sw3V"
      }
    },
    {
      "cell_type": "code",
      "source": [
        "import numpy as np\n",
        "import pandas as pd\n",
        "import nltk\n",
        "import gensim.downloader as api\n",
        "from sklearn.model_selection import train_test_split\n",
        "from sklearn.preprocessing import LabelEncoder\n",
        "from sklearn.metrics import classification_report, confusion_matrix\n",
        "from tensorflow.keras.models import Sequential\n",
        "from tensorflow.keras.layers import Dense\n",
        "import seaborn as sns\n",
        "import matplotlib.pyplot as plt\n",
        "\n",
        "# Load Word2Vec\n",
        "word2vec = api.load(\"word2vec-google-news-300\")\n",
        "embedding_dim = 300\n",
        "\n",
        "# Function to compute document vector\n",
        "def document_vector(doc):\n",
        "    words = doc.split()\n",
        "    valid_words = [word for word in words if word in word2vec.key_to_index]\n",
        "    if not valid_words:\n",
        "        return np.zeros(embedding_dim)\n",
        "    return np.mean(word2vec[valid_words], axis=0)\n",
        "\n",
        "# Apply to your preprocessed column\n",
        "df['doc_vector'] = df['clean_text'].apply(document_vector)\n",
        "\n",
        "# Prepare features and labels\n",
        "X_w2v = np.vstack(df['doc_vector'].values)\n",
        "le = LabelEncoder()\n",
        "y_encoded = le.fit_transform(df['airline_sentiment'])  # convert to numeric labels\n",
        "\n",
        "# Split dataset\n",
        "X_train, X_test, y_train, y_test = train_test_split(X_w2v, y_encoded, test_size=0.2, random_state=42)\n",
        "\n",
        "# Build the model\n",
        "model = Sequential()\n",
        "model.add(Dense(64, input_dim=embedding_dim, activation='relu'))\n",
        "model.add(Dense(32, activation='relu'))\n",
        "model.add(Dense(len(le.classes_), activation='softmax'))  # multi-class output\n",
        "\n",
        "model.compile(loss='sparse_categorical_crossentropy', optimizer='adam', metrics=['accuracy'])\n",
        "\n",
        "# Train the model\n",
        "model.fit(X_train, y_train, epochs=10, batch_size=32, validation_data=(X_test, y_test), verbose=1)\n",
        "\n",
        "# Predict and evaluate\n",
        "y_pred_probs = model.predict(X_test)\n",
        "y_pred = np.argmax(y_pred_probs, axis=1)\n",
        "\n",
        "print(\"\\nClassification Report:\")\n",
        "print(classification_report(y_test, y_pred, target_names=le.classes_))\n",
        "\n",
        "# Confusion matrix\n",
        "cm = confusion_matrix(y_test, y_pred)\n",
        "sns.heatmap(cm, annot=True, fmt='d', cmap='YlGnBu', xticklabels=le.classes_, yticklabels=le.classes_)\n",
        "plt.title(\"Confusion Matrix (Word2Vec + Neural Net)\")\n",
        "plt.xlabel(\"Predicted\")\n",
        "plt.ylabel(\"Actual\")\n",
        "plt.show()\n"
      ],
      "metadata": {
        "id": "vjw7tTEMl2dU",
        "colab": {
          "base_uri": "https://localhost:8080/",
          "height": 1000
        },
        "outputId": "fab8201c-489b-4128-df7c-de09f68eb728"
      },
      "execution_count": 8,
      "outputs": [
        {
          "output_type": "stream",
          "name": "stdout",
          "text": [
            "Epoch 1/10\n",
            "366/366 [==============================] - 2s 3ms/step - loss: 0.6662 - accuracy: 0.7287 - val_loss: 0.5669 - val_accuracy: 0.7754\n",
            "Epoch 2/10\n",
            "366/366 [==============================] - 1s 2ms/step - loss: 0.5591 - accuracy: 0.7730 - val_loss: 0.5543 - val_accuracy: 0.7806\n",
            "Epoch 3/10\n",
            "366/366 [==============================] - 1s 2ms/step - loss: 0.5317 - accuracy: 0.7844 - val_loss: 0.5377 - val_accuracy: 0.7888\n",
            "Epoch 4/10\n",
            "366/366 [==============================] - 1s 2ms/step - loss: 0.5141 - accuracy: 0.7934 - val_loss: 0.5357 - val_accuracy: 0.7908\n",
            "Epoch 5/10\n",
            "366/366 [==============================] - 1s 2ms/step - loss: 0.4972 - accuracy: 0.8021 - val_loss: 0.5306 - val_accuracy: 0.7901\n",
            "Epoch 6/10\n",
            "366/366 [==============================] - 1s 2ms/step - loss: 0.4826 - accuracy: 0.8068 - val_loss: 0.5292 - val_accuracy: 0.7936\n",
            "Epoch 7/10\n",
            "366/366 [==============================] - 1s 2ms/step - loss: 0.4718 - accuracy: 0.8116 - val_loss: 0.5358 - val_accuracy: 0.7874\n",
            "Epoch 8/10\n",
            "366/366 [==============================] - 1s 3ms/step - loss: 0.4571 - accuracy: 0.8173 - val_loss: 0.5508 - val_accuracy: 0.7884\n",
            "Epoch 9/10\n",
            "366/366 [==============================] - 1s 3ms/step - loss: 0.4443 - accuracy: 0.8287 - val_loss: 0.5424 - val_accuracy: 0.7850\n",
            "Epoch 10/10\n",
            "366/366 [==============================] - 1s 4ms/step - loss: 0.4291 - accuracy: 0.8303 - val_loss: 0.5685 - val_accuracy: 0.7764\n",
            "92/92 [==============================] - 0s 2ms/step\n",
            "\n",
            "Classification Report:\n",
            "              precision    recall  f1-score   support\n",
            "\n",
            "    negative       0.86      0.86      0.86      1880\n",
            "     neutral       0.60      0.52      0.56       582\n",
            "    positive       0.64      0.77      0.70       459\n",
            "\n",
            "    accuracy                           0.78      2921\n",
            "   macro avg       0.70      0.72      0.71      2921\n",
            "weighted avg       0.78      0.78      0.77      2921\n",
            "\n"
          ]
        },
        {
          "output_type": "display_data",
          "data": {
            "text/plain": [
              "<Figure size 640x480 with 2 Axes>"
            ],
            "image/png": "[encoded data removed]"
          },
          "metadata": {}
        }
      ]
    },
    {
      "cell_type": "markdown",
      "source": [
        "The neural network model trained with Word2Vec embeddings shows solid performance, particularly in identifying negative sentiments. Here are the key insights based on the confusion matrix, classification report, and training history:\n",
        "\n",
        "###  **Model Performance Insights:**\n",
        "\n",
        "1. **High Accuracy on Negative Sentiment:**\n",
        "\n",
        "   * The model performs very well in identifying negative tweets, with **1,613 out of 1,880** correctly predicted (`recall ≈ 0.86`).\n",
        "   * This strong result boosts the overall accuracy to **78%**.\n",
        "\n",
        "2. **Moderate Performance on Positive Sentiment:**\n",
        "\n",
        "   * The model correctly predicts **353 out of 459** positive cases, achieving a relatively strong **recall of 0.77**.\n",
        "   * However, the **precision (0.64)** indicates some confusion with neutral or negative classes.\n",
        "\n",
        "3. **Weakness in Neutral Classification:**\n",
        "\n",
        "   * The model struggles with the neutral class, with a **recall of just 0.52** and **precision of 0.60**.\n",
        "   * Many neutral tweets are misclassified as negative or positive, likely due to overlapping vocabulary or ambiguous tone.\n",
        "\n",
        "4. **Training and Validation Trends:**\n",
        "\n",
        "   * The **training accuracy steadily improved** from 72.9% to 83.0% over 10 epochs.\n",
        "   * **Validation accuracy peaked at epoch 6 (79.4%)** but slightly declined afterward, indicating potential **overfitting** beyond that point.\n",
        "   * Loss curves show a similar pattern where validation loss started increasing after epoch 6.\n",
        "\n",
        "5. **Balanced Macro F1-Score:**\n",
        "\n",
        "   * The macro F1-score of **0.71** shows that while the model handles the overall task decently, it is **less balanced across classes**, particularly underperforming for neutral tweets.\n",
        "\n"
      ],
      "metadata": {
        "id": "zvxtu7iOTZ4w"
      }
    },
    {
      "cell_type": "markdown",
      "source": [
        "\n",
        "\n",
        "\n",
        "### **Analysis and Reporting**\n",
        "\n",
        "**1. TF-IDF vs. Word2Vec**\n",
        "\n",
        "TF-IDF and Word2Vec are two methods used to convert text into numbers so that a machine learning model can understand it.\n",
        "\n",
        "TF-IDF looks at how often words appear in the text. It treats each word separately and does not know if two words have similar meanings. For example, it sees \"good\" and \"excellent\" as completely different words.\n",
        "\n",
        "Word2Vec, on the other hand, learns word meanings based on how words appear with other words. It understands that \"good\" and \"excellent\" are similar in meaning. Because of this, models using Word2Vec often give better results when trying to understand the meaning or emotion in a sentence.\n",
        "\n",
        "Based on the results, Word2Vec performed better than TF-IDF. It was especially good at understanding the overall meaning and emotion in text.\n",
        "<br><br>\n",
        "**2. With vs. Without Lemmatization**\n",
        "\n",
        "Lemmatization is the process of changing words to their base form. For example, \"running\", \"ran\", and \"runs\" are all changed to \"run\". This helps reduce confusion for the model.\n",
        "\n",
        "Without lemmatization, the model sees each form of the word as something different. This can make learning harder and less accurate.\n",
        "\n",
        "With lemmatization, the model learns from simpler and more consistent text. This helps improve the model’s accuracy in classifying emotions or meanings in sentences.\n",
        "<br><br>\n",
        "**3. Importance of Word Meaning**\n",
        "\n",
        "Word2Vec helped the model understand that some words are related. For example, it could see that \"happy\" and \"joyful\" are similar, or that \"bad\" and \"terrible\" both express negative feelings. Because of this understanding, the model using Word2Vec gave more correct predictions than the one using TF-IDF.\n",
        "<br><br>\n",
        "**4. Challenges in Tokenization and Preprocessing**\n",
        "\n",
        "Tokenization means breaking the sentence into words. Preprocessing means cleaning the text by removing extra symbols, lowercasing, and converting words to their base form.\n",
        "\n",
        "There are some challenges with this. If we do not clean the text well, the model may learn from messy data. Also, stemming (a simpler method than lemmatization) can make words look strange or unclear. For example, \"commercials\" becomes \"commerci\", which might not be helpful.\n",
        "<br><br>\n",
        "\n",
        "In summary, proper preprocessing and using smarter word representations like Word2Vec help the model understand text better and give more accurate results.\n",
        "\n",
        "\n"
      ],
      "metadata": {
        "id": "zMUckzwaUcl0"
      }
    },
    {
      "cell_type": "markdown",
      "source": [
        "Exporting HTML File"
      ],
      "metadata": {
        "id": "X1S5zIw5cQ9L"
      }
    },
    {
      "cell_type": "code",
      "source": [
        "import warnings\n",
        "from pandas.errors import PerformanceWarning  # Use this if PerformanceWarning needs to be suppressed\n",
        "from statsmodels.tools.sm_exceptions import ValueWarning  # Import ValueWarning from statsmodels\n",
        "\n",
        "# Suppress specific warnings\n",
        "warnings.filterwarnings(\"ignore\", category=UserWarning)   # General warnings\n",
        "warnings.filterwarnings(\"ignore\", category=FutureWarning) # FutureWarning from statsmodels\n",
        "warnings.filterwarnings(\"ignore\", category=ValueWarning)  # ValueWarning for unsupported index\n",
        "warnings.filterwarnings(\"ignore\", category=PerformanceWarning)  # PerformanceWarning for performance issues\n",
        "\n",
        "# Mount Google Drive\n",
        "from google.colab import drive\n",
        "drive.mount('/content/drive')\n",
        "\n",
        "!jupyter nbconvert --to html \"/content/drive/My Drive/Colab Notebooks/FA3_Samson_PA.ipynb\"\n",
        "\n"
      ],
      "metadata": {
        "colab": {
          "base_uri": "https://localhost:8080/"
        },
        "id": "SfDub-MlcQIE",
        "outputId": "56cccd5a-5cbf-4e81-d3de-7206a4a20eef"
      },
      "execution_count": 16,
      "outputs": [
        {
          "output_type": "stream",
          "name": "stdout",
          "text": [
            "Drive already mounted at /content/drive; to attempt to forcibly remount, call drive.mount(\"/content/drive\", force_remount=True).\n",
            "[NbConvertApp] Converting notebook /content/drive/My Drive/Colab Notebooks/FA3_Samson_PA.ipynb to html\n",
            "/usr/local/share/jupyter/nbconvert/templates/base/display_priority.j2:32: UserWarning: Your element with mimetype(s) dict_keys(['application/vnd.colab-display-data+json']) is not able to be represented.\n",
            "  {%- elif type == 'text/vnd.mermaid' -%}\n",
            "[NbConvertApp] WARNING | Alternative text is missing on 1 image(s).\n",
            "[NbConvertApp] Writing 411713 bytes to /content/drive/My Drive/Colab Notebooks/FA3_Samson_PA.html\n"
          ]
        }
      ]
    }
  ]
}